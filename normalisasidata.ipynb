{
 "cells": [
  {
   "cell_type": "code",
   "execution_count": 3,
   "id": "94b789ce-bdf0-4258-b212-b4923dfe0898",
   "metadata": {},
   "outputs": [
    {
     "name": "stdout",
     "output_type": "stream",
     "text": [
      "     .    Jarak1        jarak2    Jarak3    Jarak4    Jarak5    Jarak6  \\\n",
      "0  1.0  0.000000   6567.599273  0.430660  0.772691  0.925774  1.000000   \n",
      "1  2.0  0.000000   3095.048854  0.306654  0.523630  0.727384  0.667992   \n",
      "2  3.0  0.147737   3095.048854  0.256253  0.345737  0.557293  0.575286   \n",
      "3  4.0  0.396145   9618.544643  0.256253  0.026330  1.000000  0.957174   \n",
      "4  5.0  0.474615  10397.202660  0.227503  0.026330  0.776762  0.278041   \n",
      "\n",
      "     Jarak7    Jarak8    Jarak9   Jarak10  \n",
      "0  1.000000  1.000000  1.000000  0.996045  \n",
      "1  0.684490  0.757325  0.757325  1.000000  \n",
      "2  0.450420  0.525375  0.525375  0.809541  \n",
      "3  0.561467  0.790305  0.790305  0.730822  \n",
      "4  0.433168  0.619990  0.619990  0.877281  \n"
     ]
    }
   ],
   "source": [
    "import pandas as pd\n",
    "from sklearn.preprocessing import MinMaxScaler\n",
    "\n",
    "# Load your dataset\n",
    "data = pd.read_csv('jarak lokasi strategis thd pendidikan3.csv')\n",
    "\n",
    "# Fill missing values\n",
    "data_cleaned = data.fillna(data.mean())\n",
    "\n",
    "# Select the columns to normalize\n",
    "columns_to_normalize = [col for col in data_cleaned.columns if 'Jarak' in col]\n",
    "\n",
    "# Apply MinMaxScaler\n",
    "scaler = MinMaxScaler()\n",
    "data_cleaned[columns_to_normalize] = scaler.fit_transform(data_cleaned[columns_to_normalize])\n",
    "\n",
    "# Save or view the normalized dataset\n",
    "data_cleaned.to_csv('normalized_data.csv', index=False)\n",
    "print(data_cleaned.head())\n"
   ]
  },
  {
   "cell_type": "code",
   "execution_count": 11,
   "id": "66345eca-b5c2-4fa7-9ca2-ce31869f51ab",
   "metadata": {},
   "outputs": [
    {
     "name": "stdout",
     "output_type": "stream",
     "text": [
      "   .    Jarak1        jarak2    Jarak3    Jarak4    Jarak5    Jarak6  \\\n",
      "0  1  0.000000   6567.599273  0.430660  0.772691  0.925774  1.000000   \n",
      "1  2  0.000000   3095.048854  0.306654  0.523630  0.727384  0.667992   \n",
      "2  3  0.147737   3095.048854  0.256253  0.345737  0.557293  0.575286   \n",
      "3  4  0.396145   9618.544643  0.256253  0.026330  1.000000  0.957174   \n",
      "4  5  0.474615  10397.202660  0.227503  0.026330  0.776762  0.278041   \n",
      "\n",
      "     Jarak7    Jarak8    Jarak9   Jarak10  \n",
      "0  1.000000  1.000000  1.000000  0.996045  \n",
      "1  0.684490  0.757325  0.757325  1.000000  \n",
      "2  0.450420  0.525375  0.525375  0.809541  \n",
      "3  0.561467  0.790305  0.790305  0.730822  \n",
      "4  0.433168  0.619990  0.619990  0.877281  \n"
     ]
    }
   ],
   "source": [
    "import pandas as pd\n",
    "from sklearn.preprocessing import MinMaxScaler\n",
    "\n",
    "# Load your dataset\n",
    "data = pd.read_csv('lokasistrategis.csv')\n",
    "\n",
    "# Fill missing values\n",
    "data_cleaned = data.fillna(data.mean())\n",
    "\n",
    "# Select the columns to normalize\n",
    "columns_to_normalize = [col for col in data_cleaned.columns if 'Jarak' in col]\n",
    "\n",
    "# Apply MinMaxScaler\n",
    "scaler = MinMaxScaler()\n",
    "data_cleaned[columns_to_normalize] = scaler.fit_transform(data_cleaned[columns_to_normalize])\n",
    "\n",
    "# Save or view the normalized dataset\n",
    "data_cleaned.to_csv('normalized_data1.csv', index=False)\n",
    "print(data_cleaned.head())\n"
   ]
  },
  {
   "cell_type": "code",
   "execution_count": 14,
   "id": "fc4a29c8-b261-4e33-bd10-896665fd9bc6",
   "metadata": {},
   "outputs": [
    {
     "name": "stdout",
     "output_type": "stream",
     "text": [
      "Data Awal:\n",
      "   .        Jarak1        jarak2        Jarak3        Jarak4       Jarak5  \\\n",
      "0  1   3478.355934   6567.599273  11761.893060  13402.733060  16672.75304   \n",
      "1  2   3478.355934   3095.048854   9618.544643  10397.202660  13775.79674   \n",
      "2  3   6567.599273   3095.048854   8747.395848   8250.487028  11292.09346   \n",
      "3  4  11761.893060   9618.544643   8747.395848   4396.054292  17756.61740   \n",
      "4  5  13402.733060  10397.202660   8250.487028   4396.054292  14496.83266   \n",
      "\n",
      "         Jarak6       Jarak7       Jarak8       Jarak9      Jarak10  \n",
      "0  21857.057890  17556.45096  16888.99942  16888.99942  18973.88000  \n",
      "1  15263.105270  13410.93506  13688.10453  13688.10453  19032.55580  \n",
      "2  13421.880520  10335.46462  10628.68780  10628.68780  16206.94251  \n",
      "3  21006.498310  11794.52452  14123.11511  14123.11511  15039.08374  \n",
      "4   7518.347226  10108.79698  11876.65145  11876.65145  17211.91350  \n",
      "\n",
      "Data Setelah Normalisasi:\n",
      "          .    Jarak1    jarak2    Jarak3    Jarak4    Jarak5    Jarak6  \\\n",
      "0  0.000000  0.000000  0.235610  0.430660  0.772691  0.925774  1.000000   \n",
      "1  0.033333  0.000000  0.000000  0.306654  0.523630  0.727384  0.667992   \n",
      "2  0.066667  0.147737  0.000000  0.256253  0.345737  0.557293  0.575286   \n",
      "3  0.100000  0.396145  0.442615  0.256253  0.026330  1.000000  0.957174   \n",
      "4  0.133333  0.474615  0.495446  0.227503  0.026330  0.776762  0.278041   \n",
      "\n",
      "     Jarak7    Jarak8    Jarak9      Jarak10  \n",
      "0  1.000000  1.000000  1.000000  18973.88000  \n",
      "1  0.684490  0.757325  0.757325  19032.55580  \n",
      "2  0.450420  0.525375  0.525375  16206.94251  \n",
      "3  0.561467  0.790305  0.790305  15039.08374  \n",
      "4  0.433168  0.619990  0.619990  17211.91350  \n"
     ]
    },
    {
     "ename": "ValueError",
     "evalue": "Unknown label type: continuous. Maybe you are trying to fit a classifier, which expects discrete classes on a regression target with continuous values.",
     "output_type": "error",
     "traceback": [
      "\u001b[1;31m---------------------------------------------------------------------------\u001b[0m",
      "\u001b[1;31mValueError\u001b[0m                                Traceback (most recent call last)",
      "Cell \u001b[1;32mIn[14], line 39\u001b[0m\n\u001b[0;32m     37\u001b[0m k \u001b[38;5;241m=\u001b[39m \u001b[38;5;241m3\u001b[39m  \u001b[38;5;66;03m# Anda bisa mencoba nilai K yang berbeda\u001b[39;00m\n\u001b[0;32m     38\u001b[0m knn \u001b[38;5;241m=\u001b[39m KNeighborsClassifier(n_neighbors\u001b[38;5;241m=\u001b[39mk)\n\u001b[1;32m---> 39\u001b[0m knn\u001b[38;5;241m.\u001b[39mfit(X_train, y_train)\n\u001b[0;32m     41\u001b[0m \u001b[38;5;66;03m# 6. Prediksi pada data testing\u001b[39;00m\n\u001b[0;32m     42\u001b[0m y_pred \u001b[38;5;241m=\u001b[39m knn\u001b[38;5;241m.\u001b[39mpredict(X_test)\n",
      "File \u001b[1;32mC:\\ProgramData\\anaconda3\\Lib\\site-packages\\sklearn\\base.py:1473\u001b[0m, in \u001b[0;36m_fit_context.<locals>.decorator.<locals>.wrapper\u001b[1;34m(estimator, *args, **kwargs)\u001b[0m\n\u001b[0;32m   1466\u001b[0m     estimator\u001b[38;5;241m.\u001b[39m_validate_params()\n\u001b[0;32m   1468\u001b[0m \u001b[38;5;28;01mwith\u001b[39;00m config_context(\n\u001b[0;32m   1469\u001b[0m     skip_parameter_validation\u001b[38;5;241m=\u001b[39m(\n\u001b[0;32m   1470\u001b[0m         prefer_skip_nested_validation \u001b[38;5;129;01mor\u001b[39;00m global_skip_validation\n\u001b[0;32m   1471\u001b[0m     )\n\u001b[0;32m   1472\u001b[0m ):\n\u001b[1;32m-> 1473\u001b[0m     \u001b[38;5;28;01mreturn\u001b[39;00m fit_method(estimator, \u001b[38;5;241m*\u001b[39margs, \u001b[38;5;241m*\u001b[39m\u001b[38;5;241m*\u001b[39mkwargs)\n",
      "File \u001b[1;32mC:\\ProgramData\\anaconda3\\Lib\\site-packages\\sklearn\\neighbors\\_classification.py:238\u001b[0m, in \u001b[0;36mKNeighborsClassifier.fit\u001b[1;34m(self, X, y)\u001b[0m\n\u001b[0;32m    216\u001b[0m \u001b[38;5;129m@_fit_context\u001b[39m(\n\u001b[0;32m    217\u001b[0m     \u001b[38;5;66;03m# KNeighborsClassifier.metric is not validated yet\u001b[39;00m\n\u001b[0;32m    218\u001b[0m     prefer_skip_nested_validation\u001b[38;5;241m=\u001b[39m\u001b[38;5;28;01mFalse\u001b[39;00m\n\u001b[0;32m    219\u001b[0m )\n\u001b[0;32m    220\u001b[0m \u001b[38;5;28;01mdef\u001b[39;00m \u001b[38;5;21mfit\u001b[39m(\u001b[38;5;28mself\u001b[39m, X, y):\n\u001b[0;32m    221\u001b[0m \u001b[38;5;250m    \u001b[39m\u001b[38;5;124;03m\"\"\"Fit the k-nearest neighbors classifier from the training dataset.\u001b[39;00m\n\u001b[0;32m    222\u001b[0m \n\u001b[0;32m    223\u001b[0m \u001b[38;5;124;03m    Parameters\u001b[39;00m\n\u001b[1;32m   (...)\u001b[0m\n\u001b[0;32m    236\u001b[0m \u001b[38;5;124;03m        The fitted k-nearest neighbors classifier.\u001b[39;00m\n\u001b[0;32m    237\u001b[0m \u001b[38;5;124;03m    \"\"\"\u001b[39;00m\n\u001b[1;32m--> 238\u001b[0m     \u001b[38;5;28;01mreturn\u001b[39;00m \u001b[38;5;28mself\u001b[39m\u001b[38;5;241m.\u001b[39m_fit(X, y)\n",
      "File \u001b[1;32mC:\\ProgramData\\anaconda3\\Lib\\site-packages\\sklearn\\neighbors\\_base.py:499\u001b[0m, in \u001b[0;36mNeighborsBase._fit\u001b[1;34m(self, X, y)\u001b[0m\n\u001b[0;32m    496\u001b[0m \u001b[38;5;28;01melse\u001b[39;00m:\n\u001b[0;32m    497\u001b[0m     \u001b[38;5;28mself\u001b[39m\u001b[38;5;241m.\u001b[39moutputs_2d_ \u001b[38;5;241m=\u001b[39m \u001b[38;5;28;01mTrue\u001b[39;00m\n\u001b[1;32m--> 499\u001b[0m check_classification_targets(y)\n\u001b[0;32m    500\u001b[0m \u001b[38;5;28mself\u001b[39m\u001b[38;5;241m.\u001b[39mclasses_ \u001b[38;5;241m=\u001b[39m []\n\u001b[0;32m    501\u001b[0m \u001b[38;5;66;03m# Using `dtype=np.intp` is necessary since `np.bincount`\u001b[39;00m\n\u001b[0;32m    502\u001b[0m \u001b[38;5;66;03m# (called in _classification.py) fails when dealing\u001b[39;00m\n\u001b[0;32m    503\u001b[0m \u001b[38;5;66;03m# with a float64 array on 32bit systems.\u001b[39;00m\n",
      "File \u001b[1;32mC:\\ProgramData\\anaconda3\\Lib\\site-packages\\sklearn\\utils\\multiclass.py:219\u001b[0m, in \u001b[0;36mcheck_classification_targets\u001b[1;34m(y)\u001b[0m\n\u001b[0;32m    211\u001b[0m y_type \u001b[38;5;241m=\u001b[39m type_of_target(y, input_name\u001b[38;5;241m=\u001b[39m\u001b[38;5;124m\"\u001b[39m\u001b[38;5;124my\u001b[39m\u001b[38;5;124m\"\u001b[39m)\n\u001b[0;32m    212\u001b[0m \u001b[38;5;28;01mif\u001b[39;00m y_type \u001b[38;5;129;01mnot\u001b[39;00m \u001b[38;5;129;01min\u001b[39;00m [\n\u001b[0;32m    213\u001b[0m     \u001b[38;5;124m\"\u001b[39m\u001b[38;5;124mbinary\u001b[39m\u001b[38;5;124m\"\u001b[39m,\n\u001b[0;32m    214\u001b[0m     \u001b[38;5;124m\"\u001b[39m\u001b[38;5;124mmulticlass\u001b[39m\u001b[38;5;124m\"\u001b[39m,\n\u001b[1;32m   (...)\u001b[0m\n\u001b[0;32m    217\u001b[0m     \u001b[38;5;124m\"\u001b[39m\u001b[38;5;124mmultilabel-sequences\u001b[39m\u001b[38;5;124m\"\u001b[39m,\n\u001b[0;32m    218\u001b[0m ]:\n\u001b[1;32m--> 219\u001b[0m     \u001b[38;5;28;01mraise\u001b[39;00m \u001b[38;5;167;01mValueError\u001b[39;00m(\n\u001b[0;32m    220\u001b[0m         \u001b[38;5;124mf\u001b[39m\u001b[38;5;124m\"\u001b[39m\u001b[38;5;124mUnknown label type: \u001b[39m\u001b[38;5;132;01m{\u001b[39;00my_type\u001b[38;5;132;01m}\u001b[39;00m\u001b[38;5;124m. Maybe you are trying to fit a \u001b[39m\u001b[38;5;124m\"\u001b[39m\n\u001b[0;32m    221\u001b[0m         \u001b[38;5;124m\"\u001b[39m\u001b[38;5;124mclassifier, which expects discrete classes on a \u001b[39m\u001b[38;5;124m\"\u001b[39m\n\u001b[0;32m    222\u001b[0m         \u001b[38;5;124m\"\u001b[39m\u001b[38;5;124mregression target with continuous values.\u001b[39m\u001b[38;5;124m\"\u001b[39m\n\u001b[0;32m    223\u001b[0m     )\n",
      "\u001b[1;31mValueError\u001b[0m: Unknown label type: continuous. Maybe you are trying to fit a classifier, which expects discrete classes on a regression target with continuous values."
     ]
    }
   ],
   "source": [
    "# Import library yang dibutuhkan\n",
    "import pandas as pd\n",
    "from sklearn.model_selection import train_test_split\n",
    "from sklearn.preprocessing import MinMaxScaler\n",
    "from sklearn.neighbors import KNeighborsClassifier\n",
    "from sklearn.metrics import accuracy_score\n",
    "\n",
    "# 1. Membaca dataset\n",
    "file_path = 'lokasistrategis.csv'  # Ganti dengan file Anda\n",
    "data = pd.read_csv(file_path)\n",
    "\n",
    "# Tampilkan data awal\n",
    "print(\"Data Awal:\")\n",
    "print(data.head())\n",
    "\n",
    "# 2. Normalisasi data\n",
    "# Asumsikan semua kolom kecuali target adalah fitur\n",
    "feature_columns = data.columns[:-1]  # Semua kolom kecuali kolom terakhir\n",
    "target_column = data.columns[-1]    # Kolom terakhir dianggap target\n",
    "\n",
    "# Normalisasi fitur menggunakan MinMaxScaler\n",
    "scaler = MinMaxScaler()\n",
    "data[feature_columns] = scaler.fit_transform(data[feature_columns])\n",
    "\n",
    "# Tampilkan data setelah normalisasi\n",
    "print(\"\\nData Setelah Normalisasi:\")\n",
    "print(data.head())\n",
    "\n",
    "# 3. Memisahkan fitur (X) dan target (y)\n",
    "X = data[feature_columns]\n",
    "y = data[target_column]\n",
    "\n",
    "# 4. Membagi data menjadi training dan testing\n",
    "X_train, X_test, y_train, y_test = train_test_split(X, y, test_size=0.2, random_state=42)\n",
    "\n",
    "# 5. Membuat dan melatih model KNN\n",
    "k = 3  # Anda bisa mencoba nilai K yang berbeda\n",
    "knn = KNeighborsClassifier(n_neighbors=k)\n",
    "knn.fit(X_train, y_train)\n",
    "\n",
    "# 6. Prediksi pada data testing\n",
    "y_pred = knn.predict(X_test)\n",
    "\n",
    "# 7. Evaluasi model\n",
    "accuracy = accuracy_score(y_test, y_pred)\n",
    "print(f\"\\nAkurasi Model dengan K={k}: {accuracy * 100:.2f}%\")\n",
    "\n",
    "# 8. Eksperimen nilai K (opsional)\n",
    "print(\"\\nEksperimen dengan Nilai K yang Berbeda:\")\n",
    "for k in range(1, 11):  # Coba K dari 1 hingga 10\n",
    "    knn = KNeighborsClassifier(n_neighbors=k)\n",
    "    knn.fit(X_train, y_train)\n",
    "    y_pred = knn.predict(X_test)\n",
    "    accuracy = accuracy_score(y_test, y_pred)\n",
    "    print(f\"K={k}, Akurasi: {accuracy * 100:.2f}%\")\n"
   ]
  },
  {
   "cell_type": "code",
   "execution_count": 16,
   "id": "00add3c2-de47-4cc7-b258-0adab77b0f7e",
   "metadata": {},
   "outputs": [
    {
     "ename": "SyntaxError",
     "evalue": "invalid syntax (311317991.py, line 1)",
     "output_type": "error",
     "traceback": [
      "\u001b[1;36m  Cell \u001b[1;32mIn[16], line 1\u001b[1;36m\u001b[0m\n\u001b[1;33m    Cek dimensi data\u001b[0m\n\u001b[1;37m        ^\u001b[0m\n\u001b[1;31mSyntaxError\u001b[0m\u001b[1;31m:\u001b[0m invalid syntax\n"
     ]
    }
   ],
   "source": [
    " Cek dimensi data\n",
    "print(f\"Dimensi X_train: {X_train.shape}\")\n",
    "print(f\"Dimensi y_train: {y_train.shape}\")\n",
    "\n",
    "# Cek apakah ada NaN atau nilai kosong\n",
    "print(\"\\nCek apakah ada NaN di X_train:\")\n",
    "print(X_train.isnull().sum())\n",
    "\n",
    "print(\"\\nCek apakah ada NaN di y_train:\")\n",
    "print(y_train.isnull().sum())\n",
    "\n",
    "# Cek tipe data dari y_train\n",
    "print(\"\\nTipe data y_train:\")\n",
    "print(y_train.dtypes)\n",
    "\n",
    "# Cek distribusi nilai target (y_train)\n",
    "print(\"\\nDistribusi nilai pada y_train:\")\n",
    "print(y_train.value_counts())"
   ]
  },
  {
   "cell_type": "code",
   "execution_count": 18,
   "id": "61db0a63-2605-4715-90ed-a7b625985522",
   "metadata": {},
   "outputs": [
    {
     "name": "stdout",
     "output_type": "stream",
     "text": [
      "Dimensi X_train: (24, 10)\n",
      "Dimensi y_train: (24,)\n",
      "\n",
      "Cek apakah ada NaN di X_train:\n",
      ".         0\n",
      "Jarak1    0\n",
      "jarak2    0\n",
      "Jarak3    0\n",
      "Jarak4    0\n",
      "Jarak5    0\n",
      "Jarak6    0\n",
      "Jarak7    0\n",
      "Jarak8    0\n",
      "Jarak9    0\n",
      "dtype: int64\n",
      "\n",
      "Cek apakah ada NaN di y_train:\n",
      "0\n",
      "\n",
      "Tipe data y_train:\n",
      "float64\n",
      "\n",
      "Distribusi nilai pada y_train:\n",
      "Jarak10\n",
      "8770.841653     1\n",
      "10559.371090    1\n",
      "10448.689170    1\n",
      "12911.254220    1\n",
      "11916.864770    1\n",
      "8782.911706     1\n",
      "13225.710080    1\n",
      "10854.172560    1\n",
      "11586.324750    1\n",
      "18824.480320    1\n",
      "9353.278834     1\n",
      "8048.388075     1\n",
      "15039.083740    1\n",
      "6394.930251     1\n",
      "16206.942510    1\n",
      "19032.555800    1\n",
      "7498.145976     1\n",
      "12660.999160    1\n",
      "7522.825495     1\n",
      "11251.250330    1\n",
      "15155.692250    1\n",
      "17211.913500    1\n",
      "18973.880000    1\n",
      "14490.262790    1\n",
      "Name: count, dtype: int64\n"
     ]
    }
   ],
   "source": [
    "# Cek dimensi data\n",
    "print(f\"Dimensi X_train: {X_train.shape}\")\n",
    "print(f\"Dimensi y_train: {y_train.shape}\")\n",
    "\n",
    "# Cek apakah ada NaN atau nilai kosong\n",
    "print(\"\\nCek apakah ada NaN di X_train:\")\n",
    "print(pd.DataFrame(X_train).isnull().sum())\n",
    "\n",
    "print(\"\\nCek apakah ada NaN di y_train:\")\n",
    "print(pd.Series(y_train).isnull().sum())\n",
    "\n",
    "# Cek tipe data dari y_train\n",
    "print(\"\\nTipe data y_train:\")\n",
    "print(pd.Series(y_train).dtypes)\n",
    "\n",
    "# Cek distribusi nilai target (y_train)\n",
    "print(\"\\nDistribusi nilai pada y_train:\")\n",
    "print(pd.Series(y_train).value_counts())\n"
   ]
  },
  {
   "cell_type": "code",
   "execution_count": 20,
   "id": "16534c09-37b3-4531-9abe-679ff0ef2b9c",
   "metadata": {},
   "outputs": [
    {
     "name": "stdout",
     "output_type": "stream",
     "text": [
      "Prediksi nilai target:\n",
      "[11039.568538    9740.921665    9903.48174567  8808.46204333\n",
      " 10487.14315033  9185.66251033 13696.33779133]\n"
     ]
    }
   ],
   "source": [
    "from sklearn.neighbors import KNeighborsRegressor\n",
    "\n",
    "# Gunakan KNN untuk regresi\n",
    "k = 3  # Nilai K\n",
    "knn_regressor = KNeighborsRegressor(n_neighbors=k)\n",
    "\n",
    "# Latih model regresi\n",
    "knn_regressor.fit(X_train, y_train)\n",
    "\n",
    "# Prediksi data uji\n",
    "y_pred = knn_regressor.predict(X_test)\n",
    "\n",
    "print(\"Prediksi nilai target:\")\n",
    "print(y_pred)\n"
   ]
  },
  {
   "cell_type": "code",
   "execution_count": 22,
   "id": "9a64fc68-2ae2-45bb-b7e5-e67b34ebbabf",
   "metadata": {},
   "outputs": [
    {
     "name": "stdout",
     "output_type": "stream",
     "text": [
      "Mean Absolute Error (MAE): 2741.188786142857\n",
      "Mean Squared Error (MSE): 10060338.185689343\n",
      "R-squared: -0.07629930212021119\n"
     ]
    }
   ],
   "source": [
    "from sklearn.metrics import mean_absolute_error, mean_squared_error, r2_score\n",
    "\n",
    "# Hitung MAE, MSE, dan R-squared\n",
    "mae = mean_absolute_error(y_test, y_pred)\n",
    "mse = mean_squared_error(y_test, y_pred)\n",
    "r2 = r2_score(y_test, y_pred)\n",
    "\n",
    "print(\"Mean Absolute Error (MAE):\", mae)\n",
    "print(\"Mean Squared Error (MSE):\", mse)\n",
    "print(\"R-squared:\", r2)\n"
   ]
  },
  {
   "cell_type": "code",
   "execution_count": 24,
   "id": "2a313aac-cdea-4e1c-ae4a-f5ed6d80c8f6",
   "metadata": {},
   "outputs": [
    {
     "name": "stdout",
     "output_type": "stream",
     "text": [
      "Nilai K optimal: 6\n"
     ]
    }
   ],
   "source": [
    "from sklearn.model_selection import cross_val_score\n",
    "import numpy as np\n",
    "\n",
    "# Coba nilai k yang berbeda\n",
    "k_values = range(1, 11)\n",
    "scores = []\n",
    "\n",
    "for k in k_values:\n",
    "    knn = KNeighborsRegressor(n_neighbors=k)\n",
    "    score = cross_val_score(knn, X_train, y_train, cv=5, scoring='neg_mean_squared_error')\n",
    "    scores.append(-np.mean(score))\n",
    "\n",
    "# Cari k terbaik\n",
    "optimal_k = k_values[np.argmin(scores)]\n",
    "print(\"Nilai K optimal:\", optimal_k)\n"
   ]
  },
  {
   "cell_type": "code",
   "execution_count": 26,
   "id": "4dd61ac5-598a-4c51-aa1e-c730f6b5176a",
   "metadata": {},
   "outputs": [
    {
     "name": "stderr",
     "output_type": "stream",
     "text": [
      "Matplotlib is building the font cache; this may take a moment.\n"
     ]
    },
    {
     "data": {
      "image/png": "[encoded data removed]",
      "text/plain": [
       "<Figure size 640x480 with 1 Axes>"
      ]
     },
     "metadata": {},
     "output_type": "display_data"
    }
   ],
   "source": [
    "import matplotlib.pyplot as plt\n",
    "\n",
    "# Scatter plot untuk prediksi vs aktual\n",
    "plt.scatter(y_test, y_pred)\n",
    "plt.xlabel(\"Nilai Aktual\")\n",
    "plt.ylabel(\"Nilai Prediksi\")\n",
    "plt.title(\"Prediksi vs Aktual\")\n",
    "plt.show()\n"
   ]
  },
  {
   "cell_type": "code",
   "execution_count": 28,
   "id": "cc28ab6b-1094-4b3f-97c4-685b148a5abb",
   "metadata": {},
   "outputs": [
    {
     "ename": "TypeError",
     "evalue": "KNeighborsClassifier.fit() missing 1 required positional argument: 'y'",
     "output_type": "error",
     "traceback": [
      "\u001b[1;31m---------------------------------------------------------------------------\u001b[0m",
      "\u001b[1;31mTypeError\u001b[0m                                 Traceback (most recent call last)",
      "Cell \u001b[1;32mIn[28], line 19\u001b[0m\n\u001b[0;32m     16\u001b[0m knn \u001b[38;5;241m=\u001b[39m KNeighborsClassifier(n_neighbors\u001b[38;5;241m=\u001b[39m\u001b[38;5;241m5\u001b[39m)\n\u001b[0;32m     18\u001b[0m \u001b[38;5;66;03m# Fit model\u001b[39;00m\n\u001b[1;32m---> 19\u001b[0m knn\u001b[38;5;241m.\u001b[39mfit(X_normalized)\n\u001b[0;32m     21\u001b[0m \u001b[38;5;66;03m# Predict and rank\u001b[39;00m\n\u001b[0;32m     22\u001b[0m distances, indices \u001b[38;5;241m=\u001b[39m knn\u001b[38;5;241m.\u001b[39mkneighbors(X_normalized, n_neighbors\u001b[38;5;241m=\u001b[39m\u001b[38;5;241m5\u001b[39m)\n",
      "File \u001b[1;32mC:\\ProgramData\\anaconda3\\Lib\\site-packages\\sklearn\\base.py:1473\u001b[0m, in \u001b[0;36m_fit_context.<locals>.decorator.<locals>.wrapper\u001b[1;34m(estimator, *args, **kwargs)\u001b[0m\n\u001b[0;32m   1466\u001b[0m     estimator\u001b[38;5;241m.\u001b[39m_validate_params()\n\u001b[0;32m   1468\u001b[0m \u001b[38;5;28;01mwith\u001b[39;00m config_context(\n\u001b[0;32m   1469\u001b[0m     skip_parameter_validation\u001b[38;5;241m=\u001b[39m(\n\u001b[0;32m   1470\u001b[0m         prefer_skip_nested_validation \u001b[38;5;129;01mor\u001b[39;00m global_skip_validation\n\u001b[0;32m   1471\u001b[0m     )\n\u001b[0;32m   1472\u001b[0m ):\n\u001b[1;32m-> 1473\u001b[0m     \u001b[38;5;28;01mreturn\u001b[39;00m fit_method(estimator, \u001b[38;5;241m*\u001b[39margs, \u001b[38;5;241m*\u001b[39m\u001b[38;5;241m*\u001b[39mkwargs)\n",
      "\u001b[1;31mTypeError\u001b[0m: KNeighborsClassifier.fit() missing 1 required positional argument: 'y'"
     ]
    }
   ],
   "source": [
    "import pandas as pd\n",
    "from sklearn.preprocessing import StandardScaler\n",
    "from sklearn.neighbors import KNeighborsClassifier\n",
    "\n",
    "# Load data\n",
    "data = pd.read_csv('lokasistrategis.csv')\n",
    "\n",
    "# Select features\n",
    "X = data.iloc[:, 1:11]  # Jarak1 to Jarak10\n",
    "\n",
    "# Normalize data\n",
    "scaler = StandardScaler()\n",
    "X_normalized = scaler.fit_transform(X)\n",
    "\n",
    "# Initialize KNN\n",
    "knn = KNeighborsClassifier(n_neighbors=5)\n",
    "\n",
    "# Fit model\n",
    "knn.fit(X_normalized)\n",
    "\n",
    "# Predict and rank\n",
    "distances, indices = knn.kneighbors(X_normalized, n_neighbors=5)\n",
    "ranking = pd.DataFrame({'Sekolah': indices, 'Jarak': distances})\n",
    "\n",
    "# Display ranking\n",
    "print(ranking)"
   ]
  },
  {
   "cell_type": "code",
   "execution_count": 30,
   "id": "d80d1583-a00e-4505-b74e-4283868f3158",
   "metadata": {},
   "outputs": [
    {
     "ename": "TypeError",
     "evalue": "KNeighborsClassifier.fit() missing 1 required positional argument: 'y'",
     "output_type": "error",
     "traceback": [
      "\u001b[1;31m---------------------------------------------------------------------------\u001b[0m",
      "\u001b[1;31mTypeError\u001b[0m                                 Traceback (most recent call last)",
      "Cell \u001b[1;32mIn[30], line 19\u001b[0m\n\u001b[0;32m     16\u001b[0m knn \u001b[38;5;241m=\u001b[39m KNeighborsClassifier(n_neighbors\u001b[38;5;241m=\u001b[39m\u001b[38;5;241m5\u001b[39m)\n\u001b[0;32m     18\u001b[0m \u001b[38;5;66;03m# Fit model\u001b[39;00m\n\u001b[1;32m---> 19\u001b[0m knn\u001b[38;5;241m.\u001b[39mfit(X_normalized)\n\u001b[0;32m     21\u001b[0m \u001b[38;5;66;03m# Predict and rank\u001b[39;00m\n\u001b[0;32m     22\u001b[0m distances, indices \u001b[38;5;241m=\u001b[39m knn\u001b[38;5;241m.\u001b[39mkneighbors(X_normalized, n_neighbors\u001b[38;5;241m=\u001b[39m\u001b[38;5;241m5\u001b[39m)\n",
      "File \u001b[1;32mC:\\ProgramData\\anaconda3\\Lib\\site-packages\\sklearn\\base.py:1473\u001b[0m, in \u001b[0;36m_fit_context.<locals>.decorator.<locals>.wrapper\u001b[1;34m(estimator, *args, **kwargs)\u001b[0m\n\u001b[0;32m   1466\u001b[0m     estimator\u001b[38;5;241m.\u001b[39m_validate_params()\n\u001b[0;32m   1468\u001b[0m \u001b[38;5;28;01mwith\u001b[39;00m config_context(\n\u001b[0;32m   1469\u001b[0m     skip_parameter_validation\u001b[38;5;241m=\u001b[39m(\n\u001b[0;32m   1470\u001b[0m         prefer_skip_nested_validation \u001b[38;5;129;01mor\u001b[39;00m global_skip_validation\n\u001b[0;32m   1471\u001b[0m     )\n\u001b[0;32m   1472\u001b[0m ):\n\u001b[1;32m-> 1473\u001b[0m     \u001b[38;5;28;01mreturn\u001b[39;00m fit_method(estimator, \u001b[38;5;241m*\u001b[39margs, \u001b[38;5;241m*\u001b[39m\u001b[38;5;241m*\u001b[39mkwargs)\n",
      "\u001b[1;31mTypeError\u001b[0m: KNeighborsClassifier.fit() missing 1 required positional argument: 'y'"
     ]
    }
   ],
   "source": [
    "import pandas as pd\n",
    "from sklearn.preprocessing import StandardScaler\n",
    "from sklearn.neighbors import KNeighborsClassifier\n",
    "\n",
    "# Load data\n",
    "data = pd.read_csv('normalized_data1.csv')\n",
    "\n",
    "# Select features\n",
    "X = data.iloc[:, 1:11]  # Jarak1 to Jarak10\n",
    "\n",
    "# Normalize data\n",
    "scaler = StandardScaler()\n",
    "X_normalized = scaler.fit_transform(X)\n",
    "\n",
    "# Initialize KNN\n",
    "knn = KNeighborsClassifier(n_neighbors=5)\n",
    "\n",
    "# Fit model\n",
    "knn.fit(X_normalized)\n",
    "\n",
    "# Predict and rank\n",
    "distances, indices = knn.kneighbors(X_normalized, n_neighbors=5)\n",
    "ranking = pd.DataFrame({'Sekolah': indices, 'Jarak': distances})\n",
    "\n",
    "# Display ranking\n",
    "print(ranking)"
   ]
  },
  {
   "cell_type": "code",
   "execution_count": 32,
   "id": "299fd342-46ae-4f98-be30-7b39a001af99",
   "metadata": {},
   "outputs": [
    {
     "ename": "FileNotFoundError",
     "evalue": "[Errno 2] No such file or directory: 'MultipleFiles/lokasistrategis.csv'",
     "output_type": "error",
     "traceback": [
      "\u001b[1;31m---------------------------------------------------------------------------\u001b[0m",
      "\u001b[1;31mFileNotFoundError\u001b[0m                         Traceback (most recent call last)",
      "Cell \u001b[1;32mIn[32], line 6\u001b[0m\n\u001b[0;32m      3\u001b[0m \u001b[38;5;28;01mfrom\u001b[39;00m \u001b[38;5;21;01msklearn\u001b[39;00m\u001b[38;5;21;01m.\u001b[39;00m\u001b[38;5;21;01mneighbors\u001b[39;00m \u001b[38;5;28;01mimport\u001b[39;00m NearestNeighbors\n\u001b[0;32m      5\u001b[0m \u001b[38;5;66;03m# Load data\u001b[39;00m\n\u001b[1;32m----> 6\u001b[0m data \u001b[38;5;241m=\u001b[39m pd\u001b[38;5;241m.\u001b[39mread_csv(\u001b[38;5;124m'\u001b[39m\u001b[38;5;124mMultipleFiles/lokasistrategis.csv\u001b[39m\u001b[38;5;124m'\u001b[39m)\n\u001b[0;32m      8\u001b[0m \u001b[38;5;66;03m# Select features\u001b[39;00m\n\u001b[0;32m      9\u001b[0m X \u001b[38;5;241m=\u001b[39m data\u001b[38;5;241m.\u001b[39miloc[:, \u001b[38;5;241m1\u001b[39m:\u001b[38;5;241m11\u001b[39m]  \u001b[38;5;66;03m# Jarak1 to Jarak10\u001b[39;00m\n",
      "File \u001b[1;32mC:\\ProgramData\\anaconda3\\Lib\\site-packages\\pandas\\io\\parsers\\readers.py:1026\u001b[0m, in \u001b[0;36mread_csv\u001b[1;34m(filepath_or_buffer, sep, delimiter, header, names, index_col, usecols, dtype, engine, converters, true_values, false_values, skipinitialspace, skiprows, skipfooter, nrows, na_values, keep_default_na, na_filter, verbose, skip_blank_lines, parse_dates, infer_datetime_format, keep_date_col, date_parser, date_format, dayfirst, cache_dates, iterator, chunksize, compression, thousands, decimal, lineterminator, quotechar, quoting, doublequote, escapechar, comment, encoding, encoding_errors, dialect, on_bad_lines, delim_whitespace, low_memory, memory_map, float_precision, storage_options, dtype_backend)\u001b[0m\n\u001b[0;32m   1013\u001b[0m kwds_defaults \u001b[38;5;241m=\u001b[39m _refine_defaults_read(\n\u001b[0;32m   1014\u001b[0m     dialect,\n\u001b[0;32m   1015\u001b[0m     delimiter,\n\u001b[1;32m   (...)\u001b[0m\n\u001b[0;32m   1022\u001b[0m     dtype_backend\u001b[38;5;241m=\u001b[39mdtype_backend,\n\u001b[0;32m   1023\u001b[0m )\n\u001b[0;32m   1024\u001b[0m kwds\u001b[38;5;241m.\u001b[39mupdate(kwds_defaults)\n\u001b[1;32m-> 1026\u001b[0m \u001b[38;5;28;01mreturn\u001b[39;00m _read(filepath_or_buffer, kwds)\n",
      "File \u001b[1;32mC:\\ProgramData\\anaconda3\\Lib\\site-packages\\pandas\\io\\parsers\\readers.py:620\u001b[0m, in \u001b[0;36m_read\u001b[1;34m(filepath_or_buffer, kwds)\u001b[0m\n\u001b[0;32m    617\u001b[0m _validate_names(kwds\u001b[38;5;241m.\u001b[39mget(\u001b[38;5;124m\"\u001b[39m\u001b[38;5;124mnames\u001b[39m\u001b[38;5;124m\"\u001b[39m, \u001b[38;5;28;01mNone\u001b[39;00m))\n\u001b[0;32m    619\u001b[0m \u001b[38;5;66;03m# Create the parser.\u001b[39;00m\n\u001b[1;32m--> 620\u001b[0m parser \u001b[38;5;241m=\u001b[39m TextFileReader(filepath_or_buffer, \u001b[38;5;241m*\u001b[39m\u001b[38;5;241m*\u001b[39mkwds)\n\u001b[0;32m    622\u001b[0m \u001b[38;5;28;01mif\u001b[39;00m chunksize \u001b[38;5;129;01mor\u001b[39;00m iterator:\n\u001b[0;32m    623\u001b[0m     \u001b[38;5;28;01mreturn\u001b[39;00m parser\n",
      "File \u001b[1;32mC:\\ProgramData\\anaconda3\\Lib\\site-packages\\pandas\\io\\parsers\\readers.py:1620\u001b[0m, in \u001b[0;36mTextFileReader.__init__\u001b[1;34m(self, f, engine, **kwds)\u001b[0m\n\u001b[0;32m   1617\u001b[0m     \u001b[38;5;28mself\u001b[39m\u001b[38;5;241m.\u001b[39moptions[\u001b[38;5;124m\"\u001b[39m\u001b[38;5;124mhas_index_names\u001b[39m\u001b[38;5;124m\"\u001b[39m] \u001b[38;5;241m=\u001b[39m kwds[\u001b[38;5;124m\"\u001b[39m\u001b[38;5;124mhas_index_names\u001b[39m\u001b[38;5;124m\"\u001b[39m]\n\u001b[0;32m   1619\u001b[0m \u001b[38;5;28mself\u001b[39m\u001b[38;5;241m.\u001b[39mhandles: IOHandles \u001b[38;5;241m|\u001b[39m \u001b[38;5;28;01mNone\u001b[39;00m \u001b[38;5;241m=\u001b[39m \u001b[38;5;28;01mNone\u001b[39;00m\n\u001b[1;32m-> 1620\u001b[0m \u001b[38;5;28mself\u001b[39m\u001b[38;5;241m.\u001b[39m_engine \u001b[38;5;241m=\u001b[39m \u001b[38;5;28mself\u001b[39m\u001b[38;5;241m.\u001b[39m_make_engine(f, \u001b[38;5;28mself\u001b[39m\u001b[38;5;241m.\u001b[39mengine)\n",
      "File \u001b[1;32mC:\\ProgramData\\anaconda3\\Lib\\site-packages\\pandas\\io\\parsers\\readers.py:1880\u001b[0m, in \u001b[0;36mTextFileReader._make_engine\u001b[1;34m(self, f, engine)\u001b[0m\n\u001b[0;32m   1878\u001b[0m     \u001b[38;5;28;01mif\u001b[39;00m \u001b[38;5;124m\"\u001b[39m\u001b[38;5;124mb\u001b[39m\u001b[38;5;124m\"\u001b[39m \u001b[38;5;129;01mnot\u001b[39;00m \u001b[38;5;129;01min\u001b[39;00m mode:\n\u001b[0;32m   1879\u001b[0m         mode \u001b[38;5;241m+\u001b[39m\u001b[38;5;241m=\u001b[39m \u001b[38;5;124m\"\u001b[39m\u001b[38;5;124mb\u001b[39m\u001b[38;5;124m\"\u001b[39m\n\u001b[1;32m-> 1880\u001b[0m \u001b[38;5;28mself\u001b[39m\u001b[38;5;241m.\u001b[39mhandles \u001b[38;5;241m=\u001b[39m get_handle(\n\u001b[0;32m   1881\u001b[0m     f,\n\u001b[0;32m   1882\u001b[0m     mode,\n\u001b[0;32m   1883\u001b[0m     encoding\u001b[38;5;241m=\u001b[39m\u001b[38;5;28mself\u001b[39m\u001b[38;5;241m.\u001b[39moptions\u001b[38;5;241m.\u001b[39mget(\u001b[38;5;124m\"\u001b[39m\u001b[38;5;124mencoding\u001b[39m\u001b[38;5;124m\"\u001b[39m, \u001b[38;5;28;01mNone\u001b[39;00m),\n\u001b[0;32m   1884\u001b[0m     compression\u001b[38;5;241m=\u001b[39m\u001b[38;5;28mself\u001b[39m\u001b[38;5;241m.\u001b[39moptions\u001b[38;5;241m.\u001b[39mget(\u001b[38;5;124m\"\u001b[39m\u001b[38;5;124mcompression\u001b[39m\u001b[38;5;124m\"\u001b[39m, \u001b[38;5;28;01mNone\u001b[39;00m),\n\u001b[0;32m   1885\u001b[0m     memory_map\u001b[38;5;241m=\u001b[39m\u001b[38;5;28mself\u001b[39m\u001b[38;5;241m.\u001b[39moptions\u001b[38;5;241m.\u001b[39mget(\u001b[38;5;124m\"\u001b[39m\u001b[38;5;124mmemory_map\u001b[39m\u001b[38;5;124m\"\u001b[39m, \u001b[38;5;28;01mFalse\u001b[39;00m),\n\u001b[0;32m   1886\u001b[0m     is_text\u001b[38;5;241m=\u001b[39mis_text,\n\u001b[0;32m   1887\u001b[0m     errors\u001b[38;5;241m=\u001b[39m\u001b[38;5;28mself\u001b[39m\u001b[38;5;241m.\u001b[39moptions\u001b[38;5;241m.\u001b[39mget(\u001b[38;5;124m\"\u001b[39m\u001b[38;5;124mencoding_errors\u001b[39m\u001b[38;5;124m\"\u001b[39m, \u001b[38;5;124m\"\u001b[39m\u001b[38;5;124mstrict\u001b[39m\u001b[38;5;124m\"\u001b[39m),\n\u001b[0;32m   1888\u001b[0m     storage_options\u001b[38;5;241m=\u001b[39m\u001b[38;5;28mself\u001b[39m\u001b[38;5;241m.\u001b[39moptions\u001b[38;5;241m.\u001b[39mget(\u001b[38;5;124m\"\u001b[39m\u001b[38;5;124mstorage_options\u001b[39m\u001b[38;5;124m\"\u001b[39m, \u001b[38;5;28;01mNone\u001b[39;00m),\n\u001b[0;32m   1889\u001b[0m )\n\u001b[0;32m   1890\u001b[0m \u001b[38;5;28;01massert\u001b[39;00m \u001b[38;5;28mself\u001b[39m\u001b[38;5;241m.\u001b[39mhandles \u001b[38;5;129;01mis\u001b[39;00m \u001b[38;5;129;01mnot\u001b[39;00m \u001b[38;5;28;01mNone\u001b[39;00m\n\u001b[0;32m   1891\u001b[0m f \u001b[38;5;241m=\u001b[39m \u001b[38;5;28mself\u001b[39m\u001b[38;5;241m.\u001b[39mhandles\u001b[38;5;241m.\u001b[39mhandle\n",
      "File \u001b[1;32mC:\\ProgramData\\anaconda3\\Lib\\site-packages\\pandas\\io\\common.py:873\u001b[0m, in \u001b[0;36mget_handle\u001b[1;34m(path_or_buf, mode, encoding, compression, memory_map, is_text, errors, storage_options)\u001b[0m\n\u001b[0;32m    868\u001b[0m \u001b[38;5;28;01melif\u001b[39;00m \u001b[38;5;28misinstance\u001b[39m(handle, \u001b[38;5;28mstr\u001b[39m):\n\u001b[0;32m    869\u001b[0m     \u001b[38;5;66;03m# Check whether the filename is to be opened in binary mode.\u001b[39;00m\n\u001b[0;32m    870\u001b[0m     \u001b[38;5;66;03m# Binary mode does not support 'encoding' and 'newline'.\u001b[39;00m\n\u001b[0;32m    871\u001b[0m     \u001b[38;5;28;01mif\u001b[39;00m ioargs\u001b[38;5;241m.\u001b[39mencoding \u001b[38;5;129;01mand\u001b[39;00m \u001b[38;5;124m\"\u001b[39m\u001b[38;5;124mb\u001b[39m\u001b[38;5;124m\"\u001b[39m \u001b[38;5;129;01mnot\u001b[39;00m \u001b[38;5;129;01min\u001b[39;00m ioargs\u001b[38;5;241m.\u001b[39mmode:\n\u001b[0;32m    872\u001b[0m         \u001b[38;5;66;03m# Encoding\u001b[39;00m\n\u001b[1;32m--> 873\u001b[0m         handle \u001b[38;5;241m=\u001b[39m \u001b[38;5;28mopen\u001b[39m(\n\u001b[0;32m    874\u001b[0m             handle,\n\u001b[0;32m    875\u001b[0m             ioargs\u001b[38;5;241m.\u001b[39mmode,\n\u001b[0;32m    876\u001b[0m             encoding\u001b[38;5;241m=\u001b[39mioargs\u001b[38;5;241m.\u001b[39mencoding,\n\u001b[0;32m    877\u001b[0m             errors\u001b[38;5;241m=\u001b[39merrors,\n\u001b[0;32m    878\u001b[0m             newline\u001b[38;5;241m=\u001b[39m\u001b[38;5;124m\"\u001b[39m\u001b[38;5;124m\"\u001b[39m,\n\u001b[0;32m    879\u001b[0m         )\n\u001b[0;32m    880\u001b[0m     \u001b[38;5;28;01melse\u001b[39;00m:\n\u001b[0;32m    881\u001b[0m         \u001b[38;5;66;03m# Binary mode\u001b[39;00m\n\u001b[0;32m    882\u001b[0m         handle \u001b[38;5;241m=\u001b[39m \u001b[38;5;28mopen\u001b[39m(handle, ioargs\u001b[38;5;241m.\u001b[39mmode)\n",
      "\u001b[1;31mFileNotFoundError\u001b[0m: [Errno 2] No such file or directory: 'MultipleFiles/lokasistrategis.csv'"
     ]
    }
   ],
   "source": [
    "import pandas as pd\n",
    "from sklearn.preprocessing import StandardScaler\n",
    "from sklearn.neighbors import NearestNeighbors\n",
    "\n",
    "# Load data\n",
    "data = pd.read_csv('MultipleFiles/lokasistrategis.csv')\n",
    "\n",
    "# Select features\n",
    "X = data.iloc[:, 1:11]  # Jarak1 to Jarak10\n",
    "\n",
    "# Normalize data\n",
    "scaler = StandardScaler()\n",
    "X_normalized = scaler.fit_transform(X)\n",
    "\n",
    "# Initialize NearestNeighbors\n",
    "nbrs = NearestNeighbors(n_neighbors=5)  # Adjust n_neighbors as needed\n",
    "\n",
    "# Fit model\n",
    "nbrs.fit(X_normalized)\n",
    "\n",
    "# Find nearest neighbors\n",
    "distances, indices = nbrs.kneighbors(X_normalized)\n",
    "\n",
    "# Create a DataFrame for ranking\n",
    "ranking = pd.DataFrame({\n",
    "    'Sekolah': indices.flatten(),  # Flatten to get a 1D array of indices\n",
    "    'Jarak': distances.flatten()    # Flatten to get a 1D array of distances\n",
    "})\n",
    "\n",
    "# Display ranking\n",
    "print(ranking)"
   ]
  },
  {
   "cell_type": "code",
   "execution_count": 34,
   "id": "6a23c8a4-7415-45a3-94a3-2010f17bd945",
   "metadata": {},
   "outputs": [
    {
     "name": "stdout",
     "output_type": "stream",
     "text": [
      "     Sekolah     Jarak\n",
      "0          0  0.000000\n",
      "1          1  2.670072\n",
      "2          3  3.945747\n",
      "3         22  4.217765\n",
      "4          2  4.410341\n",
      "..       ...       ...\n",
      "150       30  0.000000\n",
      "151        8  1.467361\n",
      "152       24  2.258538\n",
      "153        9  2.449030\n",
      "154       17  2.541209\n",
      "\n",
      "[155 rows x 2 columns]\n"
     ]
    }
   ],
   "source": [
    "import pandas as pd\n",
    "from sklearn.preprocessing import StandardScaler\n",
    "from sklearn.neighbors import NearestNeighbors\n",
    "\n",
    "# Load data\n",
    "data = pd.read_csv('normalized_data1.csv')\n",
    "\n",
    "# Select features\n",
    "X = data.iloc[:, 1:11]  # Jarak1 to Jarak10\n",
    "\n",
    "# Normalize data\n",
    "scaler = StandardScaler()\n",
    "X_normalized = scaler.fit_transform(X)\n",
    "\n",
    "# Initialize NearestNeighbors\n",
    "nbrs = NearestNeighbors(n_neighbors=5)  # Adjust n_neighbors as needed\n",
    "\n",
    "# Fit model\n",
    "nbrs.fit(X_normalized)\n",
    "\n",
    "# Find nearest neighbors\n",
    "distances, indices = nbrs.kneighbors(X_normalized)\n",
    "\n",
    "# Create a DataFrame for ranking\n",
    "ranking = pd.DataFrame({\n",
    "    'Sekolah': indices.flatten(),  # Flatten to get a 1D array of indices\n",
    "    'Jarak': distances.flatten()    # Flatten to get a 1D array of distances\n",
    "})\n",
    "\n",
    "# Display ranking\n",
    "print(ranking)"
   ]
  },
  {
   "cell_type": "code",
   "execution_count": null,
   "id": "20742c4d-f764-4e40-93a5-f0666df21965",
   "metadata": {},
   "outputs": [],
   "source": []
  }
 ],
 "metadata": {
  "kernelspec": {
   "display_name": "Python 3 (ipykernel)",
   "language": "python",
   "name": "python3"
  },
  "language_info": {
   "codemirror_mode": {
    "name": "ipython",
    "version": 3
   },
   "file_extension": ".py",
   "mimetype": "text/x-python",
   "name": "python",
   "nbconvert_exporter": "python",
   "pygments_lexer": "ipython3",
   "version": "3.12.7"
  }
 },
 "nbformat": 4,
 "nbformat_minor": 5
}
